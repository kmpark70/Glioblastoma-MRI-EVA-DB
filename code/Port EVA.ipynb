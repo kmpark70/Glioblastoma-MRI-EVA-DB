{
 "cells": [
  {
   "cell_type": "code",
   "execution_count": 1,
   "metadata": {
    "colab": {
     "base_uri": "https://localhost:8080/"
    },
    "executionInfo": {
     "elapsed": 5750,
     "status": "ok",
     "timestamp": 1671466243039,
     "user": {
      "displayName": "Kyungmin Park",
      "userId": "01031974250291836511"
     },
     "user_tz": 300
    },
    "id": "huLz0pgmJP8D",
    "outputId": "a80a74b5-ddac-4bfb-c3fc-35d366edd61a"
   },
   "outputs": [
    {
     "name": "stdout",
     "output_type": "stream",
     "text": [
      "Looking in indexes: https://pypi.org/simple, https://us-python.pkg.dev/colab-wheels/public/simple/\n",
      "Requirement already satisfied: evadb in /usr/local/lib/python3.8/dist-packages (0.1.2)\n",
      "Requirement already satisfied: easyocr>=1.5.0 in /usr/local/lib/python3.8/dist-packages (from evadb) (1.6.2)\n",
      "Requirement already satisfied: pandas>=1.1.5 in /usr/local/lib/python3.8/dist-packages (from evadb) (1.3.5)\n",
      "Requirement already satisfied: pyyaml<5.2,>=5.1 in /usr/local/lib/python3.8/dist-packages (from evadb) (5.1.2)\n",
      "Requirement already satisfied: sqlalchemy-utils>=0.36.6 in /usr/local/lib/python3.8/dist-packages (from evadb) (0.38.3)\n",
      "Requirement already satisfied: ipython in /usr/local/lib/python3.8/dist-packages (from evadb) (7.9.0)\n",
      "Requirement already satisfied: antlr4-python3-runtime==4.8 in /usr/local/lib/python3.8/dist-packages (from evadb) (4.8)\n",
      "Requirement already satisfied: sqlalchemy==1.3.20 in /usr/local/lib/python3.8/dist-packages (from evadb) (1.3.20)\n",
      "Requirement already satisfied: ray>=1.13.0 in /usr/local/lib/python3.8/dist-packages (from evadb) (2.2.0)\n",
      "Requirement already satisfied: opencv-python!=4.6.0.66,>=4.5.4.60 in /usr/local/lib/python3.8/dist-packages (from evadb) (4.5.5.64)\n",
      "Requirement already satisfied: seaborn>=0.11.0 in /usr/local/lib/python3.8/dist-packages (from evadb) (0.11.2)\n",
      "Requirement already satisfied: torchvision>=0.11.1 in /usr/local/lib/python3.8/dist-packages (from evadb) (0.14.0+cu116)\n",
      "Requirement already satisfied: numpy>=1.19.5 in /usr/local/lib/python3.8/dist-packages (from evadb) (1.21.6)\n",
      "Requirement already satisfied: faiss-gpu>=1.7.2 in /usr/local/lib/python3.8/dist-packages (from evadb) (1.7.2)\n",
      "Requirement already satisfied: facenet-pytorch>=2.5.2 in /usr/local/lib/python3.8/dist-packages (from evadb) (2.5.2)\n",
      "Requirement already satisfied: Pillow>=8.4.0 in /usr/local/lib/python3.8/dist-packages (from evadb) (9.3.0)\n",
      "Requirement already satisfied: lark>=1.0.0 in /usr/local/lib/python3.8/dist-packages (from evadb) (1.1.5)\n",
      "Requirement already satisfied: tqdm>=4.64.0 in /usr/local/lib/python3.8/dist-packages (from evadb) (4.64.1)\n",
      "Requirement already satisfied: torch>=1.10.0 in /usr/local/lib/python3.8/dist-packages (from evadb) (1.13.0+cu116)\n",
      "Requirement already satisfied: importlib-metadata<5.0 in /usr/local/lib/python3.8/dist-packages (from evadb) (4.13.0)\n",
      "Requirement already satisfied: ninja in /usr/local/lib/python3.8/dist-packages (from easyocr>=1.5.0->evadb) (1.11.1)\n",
      "Requirement already satisfied: opencv-python-headless<=4.5.4.60 in /usr/local/lib/python3.8/dist-packages (from easyocr>=1.5.0->evadb) (4.5.4.60)\n",
      "Requirement already satisfied: python-bidi in /usr/local/lib/python3.8/dist-packages (from easyocr>=1.5.0->evadb) (0.4.2)\n",
      "Requirement already satisfied: Shapely in /usr/local/lib/python3.8/dist-packages (from easyocr>=1.5.0->evadb) (2.0.0)\n",
      "Requirement already satisfied: scikit-image in /usr/local/lib/python3.8/dist-packages (from easyocr>=1.5.0->evadb) (0.18.3)\n",
      "Requirement already satisfied: pyclipper in /usr/local/lib/python3.8/dist-packages (from easyocr>=1.5.0->evadb) (1.3.0.post4)\n",
      "Requirement already satisfied: scipy in /usr/local/lib/python3.8/dist-packages (from easyocr>=1.5.0->evadb) (1.7.3)\n",
      "Requirement already satisfied: requests in /usr/local/lib/python3.8/dist-packages (from facenet-pytorch>=2.5.2->evadb) (2.23.0)\n",
      "Requirement already satisfied: zipp>=0.5 in /usr/local/lib/python3.8/dist-packages (from importlib-metadata<5.0->evadb) (3.11.0)\n",
      "Requirement already satisfied: python-dateutil>=2.7.3 in /usr/local/lib/python3.8/dist-packages (from pandas>=1.1.5->evadb) (2.8.2)\n",
      "Requirement already satisfied: pytz>=2017.3 in /usr/local/lib/python3.8/dist-packages (from pandas>=1.1.5->evadb) (2022.6)\n",
      "Requirement already satisfied: six>=1.5 in /usr/local/lib/python3.8/dist-packages (from python-dateutil>=2.7.3->pandas>=1.1.5->evadb) (1.15.0)\n",
      "Requirement already satisfied: virtualenv>=20.0.24 in /usr/local/lib/python3.8/dist-packages (from ray>=1.13.0->evadb) (20.17.1)\n",
      "Requirement already satisfied: grpcio>=1.32.0 in /usr/local/lib/python3.8/dist-packages (from ray>=1.13.0->evadb) (1.51.1)\n",
      "Requirement already satisfied: jsonschema in /usr/local/lib/python3.8/dist-packages (from ray>=1.13.0->evadb) (4.3.3)\n",
      "Requirement already satisfied: aiosignal in /usr/local/lib/python3.8/dist-packages (from ray>=1.13.0->evadb) (1.3.1)\n",
      "Requirement already satisfied: frozenlist in /usr/local/lib/python3.8/dist-packages (from ray>=1.13.0->evadb) (1.3.3)\n",
      "Requirement already satisfied: click>=7.0 in /usr/local/lib/python3.8/dist-packages (from ray>=1.13.0->evadb) (7.1.2)\n",
      "Requirement already satisfied: protobuf!=3.19.5,>=3.15.3 in /usr/local/lib/python3.8/dist-packages (from ray>=1.13.0->evadb) (3.19.6)\n",
      "Requirement already satisfied: attrs in /usr/local/lib/python3.8/dist-packages (from ray>=1.13.0->evadb) (22.1.0)\n",
      "Requirement already satisfied: msgpack<2.0.0,>=1.0.0 in /usr/local/lib/python3.8/dist-packages (from ray>=1.13.0->evadb) (1.0.4)\n",
      "Requirement already satisfied: filelock in /usr/local/lib/python3.8/dist-packages (from ray>=1.13.0->evadb) (3.8.2)\n",
      "Requirement already satisfied: matplotlib>=2.2 in /usr/local/lib/python3.8/dist-packages (from seaborn>=0.11.0->evadb) (3.2.2)\n",
      "Requirement already satisfied: kiwisolver>=1.0.1 in /usr/local/lib/python3.8/dist-packages (from matplotlib>=2.2->seaborn>=0.11.0->evadb) (1.4.4)\n",
      "Requirement already satisfied: pyparsing!=2.0.4,!=2.1.2,!=2.1.6,>=2.0.1 in /usr/local/lib/python3.8/dist-packages (from matplotlib>=2.2->seaborn>=0.11.0->evadb) (3.0.9)\n",
      "Requirement already satisfied: cycler>=0.10 in /usr/local/lib/python3.8/dist-packages (from matplotlib>=2.2->seaborn>=0.11.0->evadb) (0.11.0)\n",
      "Requirement already satisfied: typing-extensions in /usr/local/lib/python3.8/dist-packages (from torch>=1.10.0->evadb) (4.4.0)\n",
      "Requirement already satisfied: distlib<1,>=0.3.6 in /usr/local/lib/python3.8/dist-packages (from virtualenv>=20.0.24->ray>=1.13.0->evadb) (0.3.6)\n",
      "Requirement already satisfied: platformdirs<3,>=2.4 in /usr/local/lib/python3.8/dist-packages (from virtualenv>=20.0.24->ray>=1.13.0->evadb) (2.6.0)\n",
      "Requirement already satisfied: traitlets>=4.2 in /usr/local/lib/python3.8/dist-packages (from ipython->evadb) (5.7.1)\n",
      "Requirement already satisfied: pickleshare in /usr/local/lib/python3.8/dist-packages (from ipython->evadb) (0.7.5)\n",
      "Requirement already satisfied: prompt-toolkit<2.1.0,>=2.0.0 in /usr/local/lib/python3.8/dist-packages (from ipython->evadb) (2.0.10)\n",
      "Requirement already satisfied: decorator in /usr/local/lib/python3.8/dist-packages (from ipython->evadb) (4.4.2)\n",
      "Requirement already satisfied: backcall in /usr/local/lib/python3.8/dist-packages (from ipython->evadb) (0.2.0)\n",
      "Requirement already satisfied: setuptools>=18.5 in /usr/local/lib/python3.8/dist-packages (from ipython->evadb) (57.4.0)\n",
      "Requirement already satisfied: jedi>=0.10 in /usr/local/lib/python3.8/dist-packages (from ipython->evadb) (0.18.2)\n",
      "Requirement already satisfied: pygments in /usr/local/lib/python3.8/dist-packages (from ipython->evadb) (2.6.1)\n",
      "Requirement already satisfied: pexpect in /usr/local/lib/python3.8/dist-packages (from ipython->evadb) (4.8.0)\n",
      "Requirement already satisfied: parso<0.9.0,>=0.8.0 in /usr/local/lib/python3.8/dist-packages (from jedi>=0.10->ipython->evadb) (0.8.3)\n",
      "Requirement already satisfied: wcwidth in /usr/local/lib/python3.8/dist-packages (from prompt-toolkit<2.1.0,>=2.0.0->ipython->evadb) (0.2.5)\n",
      "Requirement already satisfied: pyrsistent!=0.17.0,!=0.17.1,!=0.17.2,>=0.14.0 in /usr/local/lib/python3.8/dist-packages (from jsonschema->ray>=1.13.0->evadb) (0.19.2)\n",
      "Requirement already satisfied: importlib-resources>=1.4.0 in /usr/local/lib/python3.8/dist-packages (from jsonschema->ray>=1.13.0->evadb) (5.10.1)\n",
      "Requirement already satisfied: ptyprocess>=0.5 in /usr/local/lib/python3.8/dist-packages (from pexpect->ipython->evadb) (0.7.0)\n",
      "Requirement already satisfied: idna<3,>=2.5 in /usr/local/lib/python3.8/dist-packages (from requests->facenet-pytorch>=2.5.2->evadb) (2.10)\n",
      "Requirement already satisfied: urllib3!=1.25.0,!=1.25.1,<1.26,>=1.21.1 in /usr/local/lib/python3.8/dist-packages (from requests->facenet-pytorch>=2.5.2->evadb) (1.24.3)\n",
      "Requirement already satisfied: chardet<4,>=3.0.2 in /usr/local/lib/python3.8/dist-packages (from requests->facenet-pytorch>=2.5.2->evadb) (3.0.4)\n",
      "Requirement already satisfied: certifi>=2017.4.17 in /usr/local/lib/python3.8/dist-packages (from requests->facenet-pytorch>=2.5.2->evadb) (2022.12.7)\n",
      "Requirement already satisfied: PyWavelets>=1.1.1 in /usr/local/lib/python3.8/dist-packages (from scikit-image->easyocr>=1.5.0->evadb) (1.4.1)\n",
      "Requirement already satisfied: imageio>=2.3.0 in /usr/local/lib/python3.8/dist-packages (from scikit-image->easyocr>=1.5.0->evadb) (2.9.0)\n",
      "Requirement already satisfied: networkx>=2.0 in /usr/local/lib/python3.8/dist-packages (from scikit-image->easyocr>=1.5.0->evadb) (2.8.8)\n",
      "Requirement already satisfied: tifffile>=2019.7.26 in /usr/local/lib/python3.8/dist-packages (from scikit-image->easyocr>=1.5.0->evadb) (2022.10.10)\n"
     ]
    }
   ],
   "source": [
    "!pip install evadb"
   ]
  },
  {
   "cell_type": "code",
   "execution_count": 1,
   "metadata": {
    "colab": {
     "base_uri": "https://localhost:8080/"
    },
    "executionInfo": {
     "elapsed": 14745,
     "status": "ok",
     "timestamp": 1671467052462,
     "user": {
      "displayName": "Kyungmin Park",
      "userId": "01031974250291836511"
     },
     "user_tz": 300
    },
    "id": "rIf4eXtLJp88",
    "outputId": "e4e4afff-201a-4a1d-b450-964dadaf767c"
   },
   "outputs": [
    {
     "name": "stdout",
     "output_type": "stream",
     "text": [
      "[  -z \"$(lsof -ti:5432)\" ] || kill -9 $(lsof -ti:5432)\"\n",
      "nohup eva_server > eva.log 2>&1 &\n",
      "12-19-2022 16:13:22 INFO  [catalog_manager:catalog_manager.py:_bootstrap_catalog:0072] Bootstrapping catalog\n",
      "12-19-2022 16:13:22 INFO  [base_model:base_model.py:init_db:0103] Creating tables\n",
      "12-19-2022 16:13:22 INFO  [timer:timer.py:log_elapsed_time:0045] Query Compile Time: 0.0895 sec\n",
      "12-19-2022 16:13:22 WARNING[create_udf_executor:create_udf_executor.py:exec:0042] UDF FastRCNNObjectDetector already exists, nothing added.\n",
      "12-19-2022 16:13:22 INFO  [timer:timer.py:log_elapsed_time:0045] Query Compile Time: 0.0258 sec\n",
      "12-19-2022 16:13:22 WARNING[create_udf_executor:create_udf_executor.py:exec:0042] UDF Array_Count already exists, nothing added.\n",
      "12-19-2022 16:13:22 INFO  [timer:timer.py:log_elapsed_time:0045] Query Compile Time: 0.0184 sec\n",
      "12-19-2022 16:13:22 WARNING[create_udf_executor:create_udf_executor.py:exec:0042] UDF Crop already exists, nothing added.\n",
      "12-19-2022 16:13:22 INFO  [timer:timer.py:log_elapsed_time:0045] Query Compile Time: 0.0186 sec\n",
      "12-19-2022 16:13:22 WARNING[create_udf_executor:create_udf_executor.py:exec:0042] UDF Open already exists, nothing added.\n",
      "12-19-2022 16:13:22 INFO  [timer:timer.py:log_elapsed_time:0045] Query Compile Time: 0.0181 sec\n",
      "12-19-2022 16:13:22 WARNING[create_udf_executor:create_udf_executor.py:exec:0042] UDF YoloV5 already exists, nothing added.\n",
      "12-19-2022 16:13:22 INFO  [timer:timer.py:log_elapsed_time:0045] Query Compile Time: 0.0177 sec\n",
      "12-19-2022 16:13:22 WARNING[create_udf_executor:create_udf_executor.py:exec:0042] UDF DummyObjectDetector already exists, nothing added.\n",
      "12-19-2022 16:13:22 INFO  [timer:timer.py:log_elapsed_time:0045] Query Compile Time: 0.0155 sec\n",
      "12-19-2022 16:13:22 WARNING[create_udf_executor:create_udf_executor.py:exec:0042] UDF DummyMultiObjectDetector already exists, nothing added.\n",
      "12-19-2022 16:13:22 INFO  [server:server.py:start_server:0096] Start Server\n",
      "12-19-2022 16:13:22 CRITICAL[eva_server:eva_server.py:eva:0058] [Errno 98] error while attempting to bind on address ('0.0.0.0', 5432): address already in use\n",
      "\n"
     ]
    }
   ],
   "source": [
    "# !wget -nc \"https://raw.githubusercontent.com/georgia-tech-db/eva/master/tutorials/00-start-eva-server.ipynb\"\n",
    "import os\n",
    "import time\n",
    "\n",
    "def shell(command):\n",
    "    print(command)\n",
    "    os.system(command)\n",
    "\n",
    "def stop_eva_server():\n",
    "    shell('[  -z \"$(lsof -ti:5432)\" ] || kill -9 $(lsof -ti:5432)\"')\n",
    "  \n",
    "def launch_eva_server():\n",
    "  # Stop EVA server if it is running\n",
    "    stop_eva_server()\n",
    "\n",
    "    os.environ['GPU_DEVICES'] = '0'\n",
    "\n",
    "    # Start EVA server\n",
    "    shell(\"nohup eva_server > eva.log 2>&1 &\")\n",
    "\n",
    "    try:\n",
    "        with open('eva.log', 'r') as f:\n",
    "            print(f.read())\n",
    "    except FileNotFoundError:\n",
    "        pass\n",
    "\n",
    "    # Wait for server to start\n",
    "    time.sleep(10)\n",
    "\n",
    "def connect_to_server():\n",
    "    from eva.server.db_api import connect\n",
    "    %pip install nest_asyncio --quiet\n",
    "    import nest_asyncio\n",
    "    nest_asyncio.apply()\n",
    "\n",
    "    # Connect client with server\n",
    "    connection = connect(host = '127.0.0.1', port = 5432) \n",
    "    cursor = connection.cursor()\n",
    "\n",
    "    return cursor\n",
    "  \n",
    "# Launch server\n",
    "launch_eva_server()\n",
    "cursor = connect_to_server()\n",
    "    \n",
    "  "
   ]
  },
  {
   "cell_type": "code",
   "execution_count": 1,
   "metadata": {
    "colab": {
     "base_uri": "https://localhost:8080/"
    },
    "executionInfo": {
     "elapsed": 2304,
     "status": "ok",
     "timestamp": 1671467168680,
     "user": {
      "displayName": "Kyungmin Park",
      "userId": "01031974250291836511"
     },
     "user_tz": 300
    },
    "id": "fqILXavWKYT4",
    "outputId": "a73e1936-5a7a-40cf-b000-f25a84df4e99"
   },
   "outputs": [
    {
     "name": "stdout",
     "output_type": "stream",
     "text": [
      "--2022-12-19 16:26:06--  https://www.dropbox.com/s/yxljxz6zxoqu54v/mnist.mp4\n",
      "Resolving www.dropbox.com (www.dropbox.com)... 162.125.3.18, 2620:100:6018:18::a27d:312\n",
      "Connecting to www.dropbox.com (www.dropbox.com)|162.125.3.18|:443... connected.\n",
      "HTTP request sent, awaiting response... 302 Found\n",
      "Location: /s/raw/yxljxz6zxoqu54v/mnist.mp4 [following]\n",
      "--2022-12-19 16:26:06--  https://www.dropbox.com/s/raw/yxljxz6zxoqu54v/mnist.mp4\n",
      "Reusing existing connection to www.dropbox.com:443.\n",
      "HTTP request sent, awaiting response... 302 Found\n",
      "Location: https://uc7e71830a05a3100370ec515fe9.dl.dropboxusercontent.com/cd/0/inline/By514ui1umDHbnuvoFqQszqvERJTjKX8ZF25f56bjnGTG0Qd-OFZtmXXHwgS9_sao_ZIJUHywio7_ktG5R4B2eEntZ93jCj1bvqPFPsrApfJP1xF60TU0mumAya9NIEoMAQVGivCbenZQA9brfVlndENW5Fvt9ISLH5sFss66kvOQA/file# [following]\n",
      "--2022-12-19 16:26:06--  https://uc7e71830a05a3100370ec515fe9.dl.dropboxusercontent.com/cd/0/inline/By514ui1umDHbnuvoFqQszqvERJTjKX8ZF25f56bjnGTG0Qd-OFZtmXXHwgS9_sao_ZIJUHywio7_ktG5R4B2eEntZ93jCj1bvqPFPsrApfJP1xF60TU0mumAya9NIEoMAQVGivCbenZQA9brfVlndENW5Fvt9ISLH5sFss66kvOQA/file\n",
      "Resolving uc7e71830a05a3100370ec515fe9.dl.dropboxusercontent.com (uc7e71830a05a3100370ec515fe9.dl.dropboxusercontent.com)... 162.125.80.15, 2620:100:6018:15::a27d:30f\n",
      "Connecting to uc7e71830a05a3100370ec515fe9.dl.dropboxusercontent.com (uc7e71830a05a3100370ec515fe9.dl.dropboxusercontent.com)|162.125.80.15|:443... connected.\n",
      "HTTP request sent, awaiting response... 200 OK\n",
      "Length: 62156 (61K) [video/mp4]\n",
      "Saving to: ‘mnist.mp4’\n",
      "\n",
      "mnist.mp4           100%[===================>]  60.70K   216KB/s    in 0.3s    \n",
      "\n",
      "2022-12-19 16:26:08 (216 KB/s) - ‘mnist.mp4’ saved [62156/62156]\n",
      "\n",
      "--2022-12-19 16:26:08--  https://raw.githubusercontent.com/georgia-tech-db/eva/master/tutorials/apps/mnist/eva_mnist_udf.py\n",
      "Resolving raw.githubusercontent.com (raw.githubusercontent.com)... 185.199.109.133, 185.199.111.133, 185.199.110.133, ...\n",
      "Connecting to raw.githubusercontent.com (raw.githubusercontent.com)|185.199.109.133|:443... connected.\n",
      "HTTP request sent, awaiting response... 200 OK\n",
      "Length: 3095 (3.0K) [text/plain]\n",
      "Saving to: ‘eva_mnist_udf.py’\n",
      "\n",
      "eva_mnist_udf.py    100%[===================>]   3.02K  --.-KB/s    in 0s      \n",
      "\n",
      "2022-12-19 16:26:08 (26.7 MB/s) - ‘eva_mnist_udf.py’ saved [3095/3095]\n",
      "\n"
     ]
    }
   ],
   "source": [
    "# Getting MNIST as a video\n",
    "!wget -nc https://www.dropbox.com/s/yxljxz6zxoqu54v/mnist.mp4\n",
    "# Getting a udf\n",
    "!wget -nc https://raw.githubusercontent.com/georgia-tech-db/eva/master/tutorials/apps/mnist/eva_mnist_udf.py"
   ]
  },
  {
   "cell_type": "code",
   "execution_count": 13,
   "metadata": {
    "executionInfo": {
     "elapsed": 2,
     "status": "ok",
     "timestamp": 1672016070124,
     "user": {
      "displayName": "Kyungmin Park",
      "userId": "01031974250291836511"
     },
     "user_tz": 300
    },
    "id": "U3Z2GL35632_"
   },
   "outputs": [],
   "source": [
    "import numpy as np\n",
    "import os\n",
    "import copy\n",
    "from math import *\n",
    "import matplotlib.pyplot as plt\n",
    "from functools import reduce\n",
    "from glob import glob"
   ]
  },
  {
   "cell_type": "code",
   "execution_count": 6,
   "metadata": {
    "colab": {
     "base_uri": "https://localhost:8080/"
    },
    "executionInfo": {
     "elapsed": 6174,
     "status": "ok",
     "timestamp": 1672016085315,
     "user": {
      "displayName": "Kyungmin Park",
      "userId": "01031974250291836511"
     },
     "user_tz": 300
    },
    "id": "P0vwcbSxNG0A",
    "outputId": "04150472-279b-4313-d22b-ba4a3fb90b8c"
   },
   "outputs": [
    {
     "name": "stdout",
     "output_type": "stream",
     "text": [
      "Collecting pydicom\n",
      "  Downloading pydicom-2.3.1-py3-none-any.whl (2.0 MB)\n",
      "\u001b[K     |████████████████████████████████| 2.0 MB 2.9 MB/s eta 0:00:01\n",
      "\u001b[?25hInstalling collected packages: pydicom\n",
      "Successfully installed pydicom-2.3.1\n",
      "Note: you may need to restart the kernel to use updated packages.\n"
     ]
    }
   ],
   "source": [
    "pip install pydicom"
   ]
  },
  {
   "cell_type": "code",
   "execution_count": 8,
   "metadata": {
    "executionInfo": {
     "elapsed": 2,
     "status": "ok",
     "timestamp": 1672016097613,
     "user": {
      "displayName": "Kyungmin Park",
      "userId": "01031974250291836511"
     },
     "user_tz": 300
    },
    "id": "Xuyaj3Zz7M2T"
   },
   "outputs": [],
   "source": [
    "import pydicom"
   ]
  },
  {
   "cell_type": "code",
   "execution_count": 9,
   "metadata": {
    "executionInfo": {
     "elapsed": 343,
     "status": "ok",
     "timestamp": 1672016448405,
     "user": {
      "displayName": "Kyungmin Park",
      "userId": "01031974250291836511"
     },
     "user_tz": 300
    },
    "id": "uIzGhYZW7NDN"
   },
   "outputs": [],
   "source": [
    "def load_scan(paths):\n",
    "  slices = [pydicom.read_file(path) for path in paths]\n",
    "  slices.sort(key = lambda x: int(x.InstanceNumber), reverse = True)\n",
    "  try:\n",
    "    slice_thickness = np.abs(slices[0].ImagePositionSample[2] - slices[1].ImagePositionSample[2])\n",
    "  except:\n",
    "    slice_thickness = np.abs(slices[0].SliceLocation - slices[1].SliceLocation)\n",
    "  \n",
    "  for s in slices:\n",
    "    s.SliceThickness = slice_thickness\n",
    "\n",
    "  return slices\n",
    "\n",
    "  def get_piexels_hu(scans):\n",
    "    image = np.stack([s.pixel_array for s in scans])\n",
    "    image = image.astype(np.int16)\n",
    "    image[image == -2000] = 0\n",
    "\n",
    "    image += np.int16(intercept)\n",
    "\n",
    "    return np.array(image, dtype = np.int16)\n",
    "\n"
   ]
  },
  {
   "cell_type": "code",
   "execution_count": 10,
   "metadata": {
    "colab": {
     "base_uri": "https://localhost:8080/"
    },
    "executionInfo": {
     "elapsed": 4890,
     "status": "ok",
     "timestamp": 1672016467745,
     "user": {
      "displayName": "Kyungmin Park",
      "userId": "01031974250291836511"
     },
     "user_tz": 300
    },
    "id": "-KfUownS7NKB",
    "outputId": "83436437-7bd6-4402-9502-bc571fee1f81"
   },
   "outputs": [
    {
     "name": "stdout",
     "output_type": "stream",
     "text": [
      "Collecting chart_studio\n",
      "  Downloading chart_studio-1.1.0-py3-none-any.whl (64 kB)\n",
      "\u001b[K     |████████████████████████████████| 64 kB 3.7 MB/s eta 0:00:011\n",
      "\u001b[?25hRequirement already satisfied: requests in /Users/kyungminpark/opt/anaconda3/lib/python3.8/site-packages (from chart_studio) (2.25.1)\n",
      "Collecting plotly\n",
      "  Downloading plotly-5.11.0-py2.py3-none-any.whl (15.3 MB)\n",
      "\u001b[K     |████████████████████████████████| 15.3 MB 877 kB/s eta 0:00:011\n",
      "\u001b[?25hRequirement already satisfied: six in /Users/kyungminpark/opt/anaconda3/lib/python3.8/site-packages (from chart_studio) (1.15.0)\n",
      "Collecting retrying>=1.3.3\n",
      "  Downloading retrying-1.3.4-py3-none-any.whl (11 kB)\n",
      "Collecting tenacity>=6.2.0\n",
      "  Downloading tenacity-8.1.0-py3-none-any.whl (23 kB)\n",
      "Requirement already satisfied: certifi>=2017.4.17 in /Users/kyungminpark/opt/anaconda3/lib/python3.8/site-packages (from requests->chart_studio) (2020.12.5)\n",
      "Requirement already satisfied: chardet<5,>=3.0.2 in /Users/kyungminpark/opt/anaconda3/lib/python3.8/site-packages (from requests->chart_studio) (4.0.0)\n",
      "Requirement already satisfied: urllib3<1.27,>=1.21.1 in /Users/kyungminpark/opt/anaconda3/lib/python3.8/site-packages (from requests->chart_studio) (1.26.4)\n",
      "Requirement already satisfied: idna<3,>=2.5 in /Users/kyungminpark/opt/anaconda3/lib/python3.8/site-packages (from requests->chart_studio) (2.10)\n",
      "Installing collected packages: tenacity, retrying, plotly, chart-studio\n",
      "Successfully installed chart-studio-1.1.0 plotly-5.11.0 retrying-1.3.4 tenacity-8.1.0\n",
      "Note: you may need to restart the kernel to use updated packages.\n"
     ]
    }
   ],
   "source": [
    "pip install chart_studio"
   ]
  },
  {
   "cell_type": "code",
   "execution_count": 11,
   "metadata": {
    "executionInfo": {
     "elapsed": 364,
     "status": "ok",
     "timestamp": 1672016647961,
     "user": {
      "displayName": "Kyungmin Park",
      "userId": "01031974250291836511"
     },
     "user_tz": 300
    },
    "id": "bjoFQAyk7NNv"
   },
   "outputs": [],
   "source": [
    "from skimage import measure, morphology\n",
    "from skimage.morphology import ball, binary_closing\n",
    "from skimage.measure import label, regionprops\n",
    "\n",
    "from scipy.linalg import norm\n",
    "import scipy.ndimage\n",
    "\n",
    "from ipywidgets.widgets import *\n",
    "import ipywidgets as widgets\n",
    "\n",
    "import plotly\n",
    "from plotly.graph_objs import *\n",
    "import chart_studio\n",
    "\n",
    "import asyncio\n",
    "import sys"
   ]
  },
  {
   "cell_type": "code",
   "execution_count": 12,
   "metadata": {
    "colab": {
     "base_uri": "https://localhost:8080/"
    },
    "executionInfo": {
     "elapsed": 6,
     "status": "ok",
     "timestamp": 1672016795108,
     "user": {
      "displayName": "Kyungmin Park",
      "userId": "01031974250291836511"
     },
     "user_tz": 300
    },
    "id": "rWCsgI6p8rAJ",
    "outputId": "89868b87-d8a8-49dc-8d49-6b6e14d35d69"
   },
   "outputs": [
    {
     "ename": "RuntimeError",
     "evalue": "asyncio.run() cannot be called from a running event loop",
     "output_type": "error",
     "traceback": [
      "\u001b[0;31m---------------------------------------------------------------------------\u001b[0m",
      "\u001b[0;31mRuntimeError\u001b[0m                              Traceback (most recent call last)",
      "\u001b[0;32m<ipython-input-12-672986487671>\u001b[0m in \u001b[0;36m<module>\u001b[0;34m\u001b[0m\n\u001b[1;32m     37\u001b[0m \u001b[0;34m\u001b[0m\u001b[0m\n\u001b[1;32m     38\u001b[0m     \u001b[0;32mif\u001b[0m \u001b[0msys\u001b[0m\u001b[0;34m.\u001b[0m\u001b[0margv\u001b[0m\u001b[0;34m[\u001b[0m\u001b[0;36m1\u001b[0m\u001b[0;34m]\u001b[0m \u001b[0;34m!=\u001b[0m \u001b[0;34m'sync'\u001b[0m\u001b[0;34m:\u001b[0m\u001b[0;34m\u001b[0m\u001b[0;34m\u001b[0m\u001b[0m\n\u001b[0;32m---> 39\u001b[0;31m         \u001b[0masyncio\u001b[0m\u001b[0;34m.\u001b[0m\u001b[0mrun\u001b[0m\u001b[0;34m(\u001b[0m\u001b[0mrun_async\u001b[0m\u001b[0;34m(\u001b[0m\u001b[0mqueries\u001b[0m\u001b[0;34m)\u001b[0m\u001b[0;34m)\u001b[0m\u001b[0;34m\u001b[0m\u001b[0;34m\u001b[0m\u001b[0m\n\u001b[0m\u001b[1;32m     40\u001b[0m     \u001b[0;32melse\u001b[0m\u001b[0;34m:\u001b[0m\u001b[0;34m\u001b[0m\u001b[0;34m\u001b[0m\u001b[0m\n\u001b[1;32m     41\u001b[0m         \u001b[0mrun\u001b[0m\u001b[0;34m(\u001b[0m\u001b[0;34m[\u001b[0m\u001b[0mqueries\u001b[0m\u001b[0;34m]\u001b[0m\u001b[0;34m)\u001b[0m\u001b[0;34m\u001b[0m\u001b[0;34m\u001b[0m\u001b[0m\n",
      "\u001b[0;32m~/opt/anaconda3/lib/python3.8/asyncio/runners.py\u001b[0m in \u001b[0;36mrun\u001b[0;34m(main, debug)\u001b[0m\n\u001b[1;32m     31\u001b[0m     \"\"\"\n\u001b[1;32m     32\u001b[0m     \u001b[0;32mif\u001b[0m \u001b[0mevents\u001b[0m\u001b[0;34m.\u001b[0m\u001b[0m_get_running_loop\u001b[0m\u001b[0;34m(\u001b[0m\u001b[0;34m)\u001b[0m \u001b[0;32mis\u001b[0m \u001b[0;32mnot\u001b[0m \u001b[0;32mNone\u001b[0m\u001b[0;34m:\u001b[0m\u001b[0;34m\u001b[0m\u001b[0;34m\u001b[0m\u001b[0m\n\u001b[0;32m---> 33\u001b[0;31m         raise RuntimeError(\n\u001b[0m\u001b[1;32m     34\u001b[0m             \"asyncio.run() cannot be called from a running event loop\")\n\u001b[1;32m     35\u001b[0m \u001b[0;34m\u001b[0m\u001b[0m\n",
      "\u001b[0;31mRuntimeError\u001b[0m: asyncio.run() cannot be called from a running event loop"
     ]
    }
   ],
   "source": [
    "import asyncio\n",
    "import sys\n",
    "\n",
    "from typing import List\n",
    "from eva.server.db_api import connect, connect_async\n",
    "\n",
    "async def run_async(query: List[str]):\n",
    "    hostname = '0.0.0.0'\n",
    "    port = 5432\n",
    "\n",
    "    connection = await connect_async(hostname, port)\n",
    "    cursor = connection.cursor()\n",
    "    for onequery in query:\n",
    "        await cursor.execute_async(onequery)\n",
    "        response = await cursor.fetch_one_async()\n",
    "        print('Query: %s' % onequery)\n",
    "        print(response)\n",
    "\n",
    "def run(query: List[str]):\n",
    "    hostname = '0.0.0.0'\n",
    "    port = 5432\n",
    "\n",
    "    connection = connect(hostname, port)\n",
    "    cursor = connection.cursor()\n",
    "    for onequery in query:\n",
    "        cursor.execute(onequery)\n",
    "        response = cursor.fetch_one()\n",
    "        print('Query: %s' % onequery)\n",
    "        print(response)\n",
    "\n",
    "if __name__ == '__main__':\n",
    "    queries = ['INVALID QUERY',\n",
    "               'UPLOAD INFILE \"data/ua_detrac/ua_detrac.mp4\" \\\n",
    "                       PATH \"test_video.mp4\";',\n",
    "               'LOAD DATA INFILE \"test_video.mp4\" INTO MyVideo;',\n",
    "               'SELECT id,data FROM MyVideo WHERE id < 5;']\n",
    "\n",
    "    if sys.argv[1] != 'sync':\n",
    "        asyncio.run(run_async(queries))\n",
    "    else:\n",
    "        run([queries])"
   ]
  },
  {
   "cell_type": "code",
   "execution_count": null,
   "metadata": {
    "id": "0tjp2Kui8rCj"
   },
   "outputs": [],
   "source": [
    "sample_id = '00003'\n",
    "sample_folder = f'../input/rsna-miccai-brain-tumor-radiogenomic-classification/train/{sample_id}/'\n",
    "data_paths = glob(sample_folder + '/*/*.dcm')\n",
    "print (f'Total of {len(data_paths)} DICOM images.\\nFirst 5 filenames:' )\n",
    "data_paths[:5]"
   ]
  },
  {
   "cell_type": "code",
   "execution_count": null,
   "metadata": {
    "id": "TpFhoDqE8rFO"
   },
   "outputs": [],
   "source": []
  },
  {
   "cell_type": "code",
   "execution_count": null,
   "metadata": {
    "id": "ZcOGWzS88rHG"
   },
   "outputs": [],
   "source": []
  }
 ],
 "metadata": {
  "colab": {
   "authorship_tag": "ABX9TyO8iQLyPIKSeTRfHZYSQI4b",
   "provenance": []
  },
  "kernelspec": {
   "display_name": "Python 3",
   "language": "python",
   "name": "python3"
  },
  "language_info": {
   "codemirror_mode": {
    "name": "ipython",
    "version": 3
   },
   "file_extension": ".py",
   "mimetype": "text/x-python",
   "name": "python",
   "nbconvert_exporter": "python",
   "pygments_lexer": "ipython3",
   "version": "3.8.8"
  }
 },
 "nbformat": 4,
 "nbformat_minor": 1
}
